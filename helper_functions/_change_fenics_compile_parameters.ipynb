{
 "cells": [
  {
   "cell_type": "markdown",
   "metadata": {},
   "source": [
    "# Change FEniCS Form Compiler Scheme\n",
    "\n",
    "Changing the form compiler scheme is sometimes necessary when we use some special quadrature.\n",
    "\n",
    "Here I introduce two ways to change the compiler scheme. \n",
    "\n",
    "The example comes from the attempt to get lumped matrix using GLL quadrature."
   ]
  },
  {
   "cell_type": "code",
   "execution_count": 1,
   "metadata": {},
   "outputs": [],
   "source": [
    "from dolfin import *\n",
    "import numpy as np\n",
    "np.set_printoptions(precision=3)"
   ]
  },
  {
   "cell_type": "code",
   "execution_count": 2,
   "metadata": {
    "scrolled": true
   },
   "outputs": [
    {
     "data": {
      "text/plain": [
       "array([[ 0.044, -0.011,  0.022,  0.   ,  0.   ,  0.   ,  0.   ],\n",
       "       [-0.011,  0.089,  0.022, -0.011,  0.022,  0.   ,  0.   ],\n",
       "       [ 0.022,  0.022,  0.178,  0.   ,  0.   ,  0.   ,  0.   ],\n",
       "       [ 0.   , -0.011,  0.   ,  0.089,  0.022, -0.011,  0.022],\n",
       "       [ 0.   ,  0.022,  0.   ,  0.022,  0.178,  0.   ,  0.   ],\n",
       "       [ 0.   ,  0.   ,  0.   , -0.011,  0.   ,  0.044,  0.022],\n",
       "       [ 0.   ,  0.   ,  0.   ,  0.022,  0.   ,  0.022,  0.178]])"
      ]
     },
     "execution_count": 2,
     "metadata": {},
     "output_type": "execute_result"
    }
   ],
   "source": [
    "mesh = UnitIntervalMesh(3)\n",
    "V = FunctionSpace(mesh, 'CG', 2)  # 2nd order CG == 2nd order GLL\n",
    "M = assemble(TrialFunction(V)*TestFunction(V)*dx)\n",
    "M.array()  # The mass matrix under standard quadrature scheme is not diagonal."
   ]
  },
  {
   "cell_type": "markdown",
   "metadata": {},
   "source": [
    "If we want to use GLL quadrature, first we need to hack the fenics package to add a scheme."
   ]
  },
  {
   "cell_type": "code",
   "execution_count": 3,
   "metadata": {},
   "outputs": [],
   "source": [
    "from numpy import array\n",
    "from FIAT.reference_element import UFCInterval, UFCQuadrilateral\n",
    "from FIAT.quadrature import QuadratureRule, GaussLobattoLegendreQuadratureLineRule, GaussJacobiQuadratureLineRule\n",
    "from FIAT.quadrature_schemes import create_quadrature\n",
    "from ffc.analysis import _autoselect_quadrature_rule\n",
    "\n",
    "def create_quadrature_monkey_patched(ref_el, degree, scheme=\"default\"):\n",
    "    \"\"\"Monkey patched FIAT.quadrature_schemes.create_quadrature()\n",
    "    for implementing lumped scheme\"\"\"\n",
    "    # Our \"special\" scheme\n",
    "    if scheme == \"GLL\":\n",
    "        # print('Use GLL quadrature rule')\n",
    "        if isinstance(ref_el, UFCInterval):\n",
    "            # print('Integrate on intervals')\n",
    "            return GaussLobattoLegendreQuadratureLineRule(ref_el, degree + 1)\n",
    "        elif isinstance(ref_el, UFCQuadrilateral):\n",
    "            # print('Integrate on quadrilaterals')\n",
    "            lr = GaussLobattoLegendreQuadratureLineRule(UFCInterval(), degree + 1)\n",
    "            x = lr.pts\n",
    "            w = lr.wts\n",
    "            x = array([[i[0], j[0]] for i in x for j in x])\n",
    "            w = array([i * j for i in w for j in w])\n",
    "            return QuadratureRule(ref_el, x, w)\n",
    "\n",
    "\n",
    "    # Fallback to FIAT's normal operation\n",
    "    return create_quadrature(ref_el, degree, scheme=scheme)\n",
    "\n",
    "\n",
    "def _autoselect_quadrature_rule_monkey_patched(*args, **kwargs):\n",
    "    \"\"\"Monkey patched ffc.analysis._autoselect_quadrature_rule()\n",
    "    preventing FFC to complain about non-existing quad scheme\"\"\"\n",
    "    try:\n",
    "        return _autoselect_quadrature_rule(*args, **kwargs)\n",
    "    except Exception:\n",
    "        integral_metadata = args[0]\n",
    "        qr = integral_metadata[\"quadrature_rule\"]\n",
    "        return qr\n",
    "\n",
    "\n",
    "# Monkey patch FIAT quadrature scheme generator\n",
    "import FIAT\n",
    "\n",
    "FIAT.create_quadrature = create_quadrature_monkey_patched\n",
    "\n",
    "# Monkey patch FFC scheme autoselection mechanism\n",
    "import ffc.analysis\n",
    "\n",
    "ffc.analysis._autoselect_quadrature_rule = _autoselect_quadrature_rule_monkey_patched\n",
    "\n",
    "# # cheat ffc to support GLL\n",
    "# from ffc import fiatinterface\n",
    "\n",
    "# supported_families_monkey_patched = list(fiatinterface.supported_families)\n",
    "# supported_families_monkey_patched.append('Gauss-Lobatto-Legendre')\n",
    "# fiatinterface.supported_families = tuple(supported_families_monkey_patched)"
   ]
  },
  {
   "cell_type": "markdown",
   "metadata": {},
   "source": [
    "Now we can assemble the mass matrix with GLL scheme and get a diagonal matrix.\n",
    "## Method 1: set the arguments in the function `assemble`"
   ]
  },
  {
   "cell_type": "code",
   "execution_count": 4,
   "metadata": {},
   "outputs": [
    {
     "data": {
      "text/plain": [
       "array([[ 0.056,  0.   ,  0.   ,  0.   ,  0.   ,  0.   ,  0.   ],\n",
       "       [ 0.   ,  0.111,  0.   ,  0.   ,  0.   ,  0.   ,  0.   ],\n",
       "       [ 0.   ,  0.   ,  0.222,  0.   ,  0.   ,  0.   ,  0.   ],\n",
       "       [ 0.   ,  0.   ,  0.   ,  0.111,  0.   ,  0.   ,  0.   ],\n",
       "       [ 0.   ,  0.   ,  0.   ,  0.   ,  0.222,  0.   ,  0.   ],\n",
       "       [ 0.   ,  0.   ,  0.   ,  0.   ,  0.   ,  0.056,  0.   ],\n",
       "       [ 0.   ,  0.   ,  0.   ,  0.   ,  0.   ,  0.   ,  0.222]])"
      ]
     },
     "execution_count": 4,
     "metadata": {},
     "output_type": "execute_result"
    }
   ],
   "source": [
    "M = assemble(TrialFunction(V)*TestFunction(V)*dx, \n",
    "             form_compiler_parameters={'quadrature_degree': 2, 'quadrature_rule': 'GLL'})\n",
    "M.array()  # The mass matrix under GLL quadrature scheme is diagonal."
   ]
  },
  {
   "cell_type": "markdown",
   "metadata": {},
   "source": [
    "However it is bothering to set arguments every time when we keep using this scheme in the whole project. Hence here I introduce another way, changing the dolfin global parameter which controls the compile scheme.\n",
    "## Method 2: Set global `parameters`"
   ]
  },
  {
   "cell_type": "code",
   "execution_count": 5,
   "metadata": {},
   "outputs": [],
   "source": [
    "info(parameters,True)  # It prints the global dolfin parameters. It doesn't work here, why?"
   ]
  },
  {
   "cell_type": "code",
   "execution_count": 6,
   "metadata": {},
   "outputs": [],
   "source": [
    "# change the parameters \n",
    "parameters['form_compiler']['quadrature_degree'] = 2\n",
    "parameters['form_compiler']['quadrature_rule'] = 'GLL'"
   ]
  },
  {
   "cell_type": "code",
   "execution_count": 7,
   "metadata": {},
   "outputs": [
    {
     "data": {
      "text/plain": [
       "array([[ 0.056,  0.   ,  0.   ,  0.   ,  0.   ,  0.   ,  0.   ],\n",
       "       [ 0.   ,  0.111,  0.   ,  0.   ,  0.   ,  0.   ,  0.   ],\n",
       "       [ 0.   ,  0.   ,  0.222,  0.   ,  0.   ,  0.   ,  0.   ],\n",
       "       [ 0.   ,  0.   ,  0.   ,  0.111,  0.   ,  0.   ,  0.   ],\n",
       "       [ 0.   ,  0.   ,  0.   ,  0.   ,  0.222,  0.   ,  0.   ],\n",
       "       [ 0.   ,  0.   ,  0.   ,  0.   ,  0.   ,  0.056,  0.   ],\n",
       "       [ 0.   ,  0.   ,  0.   ,  0.   ,  0.   ,  0.   ,  0.222]])"
      ]
     },
     "execution_count": 7,
     "metadata": {},
     "output_type": "execute_result"
    }
   ],
   "source": [
    "M = assemble(TrialFunction(V)*TestFunction(V)*dx)\n",
    "M.array()  # The mass matrix under standard quadrature scheme is not diagonal."
   ]
  },
  {
   "cell_type": "code",
   "execution_count": null,
   "metadata": {},
   "outputs": [],
   "source": []
  }
 ],
 "metadata": {
  "kernelspec": {
   "display_name": "Python 3",
   "language": "python",
   "name": "python3"
  },
  "language_info": {
   "codemirror_mode": {
    "name": "ipython",
    "version": 3
   },
   "file_extension": ".py",
   "mimetype": "text/x-python",
   "name": "python",
   "nbconvert_exporter": "python",
   "pygments_lexer": "ipython3",
   "version": "3.6.7"
  }
 },
 "nbformat": 4,
 "nbformat_minor": 4
}
