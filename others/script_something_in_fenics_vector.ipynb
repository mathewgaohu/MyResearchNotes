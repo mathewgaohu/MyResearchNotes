{
 "cells": [
  {
   "cell_type": "markdown",
   "id": "virtual-nightmare",
   "metadata": {},
   "source": [
    "# Set FEniCS vector values with a column of a numpy array."
   ]
  },
  {
   "cell_type": "code",
   "execution_count": 1,
   "id": "opened-brook",
   "metadata": {},
   "outputs": [],
   "source": [
    "import dolfin as dl\n",
    "import numpy as np\n",
    "from scipy.linalg import eigh as eigh_scipy"
   ]
  },
  {
   "cell_type": "markdown",
   "id": "sustainable-check",
   "metadata": {},
   "source": [
    "Suppose that I want to set values to a vector. "
   ]
  },
  {
   "cell_type": "code",
   "execution_count": 2,
   "id": "civilian-nightmare",
   "metadata": {},
   "outputs": [],
   "source": [
    "n = 5\n",
    "v = dl.Vector(dl.MPI.comm_self, n)  "
   ]
  },
  {
   "cell_type": "markdown",
   "id": "legal-carnival",
   "metadata": {},
   "source": [
    "Something unexpected happens when I set values with a colunm of a numpy matrix. "
   ]
  },
  {
   "cell_type": "code",
   "execution_count": 3,
   "id": "competent-stomach",
   "metadata": {},
   "outputs": [
    {
     "name": "stdout",
     "output_type": "stream",
     "text": [
      "[[ 1.76405235  0.40015721]\n",
      " [ 0.97873798  2.2408932 ]\n",
      " [ 1.86755799 -0.97727788]\n",
      " [ 0.95008842 -0.15135721]\n",
      " [-0.10321885  0.4105985 ]]\n"
     ]
    }
   ],
   "source": [
    "np.random.seed(0)\n",
    "x = np.random.randn(n,2) \n",
    "print(x) "
   ]
  },
  {
   "cell_type": "markdown",
   "id": "exciting-professional",
   "metadata": {},
   "source": [
    "## 1. Wrong result\n",
    "\n",
    "use `[:] = `\n",
    "\n",
    "it will take the values from the matrix by rows."
   ]
  },
  {
   "cell_type": "code",
   "execution_count": 4,
   "id": "latin-pension",
   "metadata": {},
   "outputs": [
    {
     "name": "stdout",
     "output_type": "stream",
     "text": [
      "[ 1.76405235  0.97873798  1.86755799  0.95008842 -0.10321885]\n",
      "[1.76405235 0.40015721 0.97873798 2.2408932  1.86755799]\n"
     ]
    }
   ],
   "source": [
    "v[:] = x[:,0]\n",
    "print(x[:,0])\n",
    "print(v[:])"
   ]
  },
  {
   "cell_type": "markdown",
   "id": "commercial-reply",
   "metadata": {},
   "source": [
    "## 2. Good result\n",
    "\n",
    "multiply by 1."
   ]
  },
  {
   "cell_type": "code",
   "execution_count": 5,
   "id": "promotional-temple",
   "metadata": {},
   "outputs": [
    {
     "name": "stdout",
     "output_type": "stream",
     "text": [
      "[ 1.76405235  0.97873798  1.86755799  0.95008842 -0.10321885]\n",
      "[ 1.76405235  0.97873798  1.86755799  0.95008842 -0.10321885]\n"
     ]
    }
   ],
   "source": [
    "v[:] = x[:,0] * 1\n",
    "print(x[:,0])\n",
    "print(v[:])"
   ]
  },
  {
   "cell_type": "markdown",
   "id": "fatal-encoding",
   "metadata": {},
   "source": [
    "## 3. Good result\n",
    "\n",
    "use `.set_local`\n",
    "\n",
    "it works properly."
   ]
  },
  {
   "cell_type": "code",
   "execution_count": 6,
   "id": "settled-advantage",
   "metadata": {},
   "outputs": [
    {
     "name": "stdout",
     "output_type": "stream",
     "text": [
      "[ 1.76405235  0.97873798  1.86755799  0.95008842 -0.10321885]\n",
      "[ 1.76405235  0.97873798  1.86755799  0.95008842 -0.10321885]\n"
     ]
    }
   ],
   "source": [
    "v.set_local(x[:,0])\n",
    "print(x[:,0])\n",
    "print(v[:])"
   ]
  },
  {
   "cell_type": "markdown",
   "id": "eight-netherlands",
   "metadata": {},
   "source": [
    "## 4. Wrong result \n",
    "\n",
    "Suppose that we get eigenvectors from `numpy.linalg.eigh`. This is a numpy array and things go wrong if we assign it to a fenics vector."
   ]
  },
  {
   "cell_type": "code",
   "execution_count": 7,
   "id": "changed-stock",
   "metadata": {},
   "outputs": [
    {
     "name": "stdout",
     "output_type": "stream",
     "text": [
      "[[-0.41697748 -0.11590039  0.45001215 -0.57994628 -0.52330514]\n",
      " [-0.44538127 -0.15876114 -0.77686521 -0.38734071  0.15125488]\n",
      " [ 0.25364803  0.8226899  -0.04449218 -0.49180209  0.12245471]\n",
      " [ 0.73420742 -0.36330445 -0.27315382 -0.30446293 -0.40204311]\n",
      " [ 0.15610078 -0.3905806   0.34260319 -0.42315779  0.72569958]]\n"
     ]
    }
   ],
   "source": [
    "np.random.seed(0)\n",
    "A = np.random.randn(n,n)\n",
    "A = A + A.T\n",
    "w, x = np.linalg.eigh(A)\n",
    "print(x)"
   ]
  },
  {
   "cell_type": "code",
   "execution_count": 8,
   "id": "monthly-georgia",
   "metadata": {},
   "outputs": [
    {
     "name": "stdout",
     "output_type": "stream",
     "text": [
      "[-0.41697748 -0.44538127  0.25364803  0.73420742  0.15610078]\n",
      "[-0.41697748 -0.11590039  0.45001215 -0.57994628 -0.52330514]\n"
     ]
    }
   ],
   "source": [
    "v[:] = x[:,0]\n",
    "print(x[:,0])\n",
    "print(v[:])"
   ]
  },
  {
   "cell_type": "markdown",
   "id": "revised-recovery",
   "metadata": {},
   "source": [
    "## 5. Good result\n",
    "\n",
    "However, if we compute eigenvectors with `scipy.linalg.eigh`, it can be assigned correctly. This is confusing..."
   ]
  },
  {
   "cell_type": "code",
   "execution_count": 9,
   "id": "fourth-portland",
   "metadata": {},
   "outputs": [
    {
     "name": "stdout",
     "output_type": "stream",
     "text": [
      "[[-0.41697748 -0.11590039  0.45001215 -0.57994628 -0.52330514]\n",
      " [-0.44538127 -0.15876114 -0.77686521 -0.38734071  0.15125488]\n",
      " [ 0.25364803  0.8226899  -0.04449218 -0.49180209  0.12245471]\n",
      " [ 0.73420742 -0.36330445 -0.27315382 -0.30446293 -0.40204311]\n",
      " [ 0.15610078 -0.3905806   0.34260319 -0.42315779  0.72569958]]\n"
     ]
    }
   ],
   "source": [
    "np.random.seed(0)\n",
    "A = np.random.randn(n,n)\n",
    "A = A + A.T\n",
    "w, x = eigh_scipy(A)\n",
    "print(x)"
   ]
  },
  {
   "cell_type": "code",
   "execution_count": 10,
   "id": "colonial-buddy",
   "metadata": {},
   "outputs": [
    {
     "name": "stdout",
     "output_type": "stream",
     "text": [
      "[-0.41697748 -0.44538127  0.25364803  0.73420742  0.15610078]\n",
      "[-0.41697748 -0.44538127  0.25364803  0.73420742  0.15610078]\n"
     ]
    }
   ],
   "source": [
    "v[:] = x[:,0]\n",
    "print(x[:,0])\n",
    "print(v[:])"
   ]
  },
  {
   "cell_type": "code",
   "execution_count": null,
   "id": "accomplished-title",
   "metadata": {},
   "outputs": [],
   "source": []
  }
 ],
 "metadata": {
  "kernelspec": {
   "display_name": "Python 3",
   "language": "python",
   "name": "python3"
  },
  "language_info": {
   "codemirror_mode": {
    "name": "ipython",
    "version": 3
   },
   "file_extension": ".py",
   "mimetype": "text/x-python",
   "name": "python",
   "nbconvert_exporter": "python",
   "pygments_lexer": "ipython3",
   "version": "3.8.8"
  }
 },
 "nbformat": 4,
 "nbformat_minor": 5
}
